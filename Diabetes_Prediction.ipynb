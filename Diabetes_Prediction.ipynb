{
  "nbformat": 4,
  "nbformat_minor": 0,
  "metadata": {
    "colab": {
      "provenance": [],
      "include_colab_link": true
    },
    "kernelspec": {
      "name": "python3",
      "display_name": "Python 3"
    },
    "language_info": {
      "name": "python"
    }
  },
  "cells": [
    {
      "cell_type": "markdown",
      "metadata": {
        "id": "view-in-github",
        "colab_type": "text"
      },
      "source": [
        "<a href=\"https://colab.research.google.com/github/Anirudh-UG/Diabetes-Prediction/blob/main/Diabetes_Prediction.ipynb\" target=\"_parent\"><img src=\"https://colab.research.google.com/assets/colab-badge.svg\" alt=\"Open In Colab\"/></a>"
      ]
    },
    {
      "cell_type": "code",
      "execution_count": null,
      "metadata": {
        "id": "gJH6YuzhDwQn"
      },
      "outputs": [],
      "source": [
        "import keras\n",
        "import pandas as pd\n",
        "import numpy as np\n",
        "import seaborn as sns\n",
        "import matplotlib.pyplot as plt\n",
        "from sklearn.preprocessing import MinMaxScaler\n",
        "from sklearn.model_selection import train_test_split\n",
        "import matplotlib.pyplot as plt\n",
        "from sklearn.metrics import confusion_matrix"
      ]
    },
    {
      "cell_type": "code",
      "source": [
        "df = pd.read_excel(\"/content/Diabetes_Classification.xlsx\")\n",
        "df"
      ],
      "metadata": {
        "id": "YLi3hl70D8BF",
        "colab": {
          "base_uri": "https://localhost:8080/",
          "height": 485
        },
        "outputId": "9cf8cf2c-c386-4dc4-c567-3d4d88d449b1"
      },
      "execution_count": null,
      "outputs": [
        {
          "output_type": "execute_result",
          "data": {
            "text/plain": [
              "     Cholesterol  Glucose  HDL Chol  Chol/HDL ratio  Age  Gender   BMI  \\\n",
              "0            193       77        49             3.9   19       0  22.5   \n",
              "1            146       79        41             3.6   19       0  26.4   \n",
              "2            217       75        54             4.0   20       0  29.3   \n",
              "3            226       97        70             3.2   20       0  19.6   \n",
              "4            164       91        67             2.4   20       0  20.2   \n",
              "..           ...      ...       ...             ...  ...     ...   ...   \n",
              "385          227      105        44             5.2   83       0  25.2   \n",
              "386          226      279        52             4.3   84       0  37.5   \n",
              "387          301       90       118             2.6   89       0  21.7   \n",
              "388          232      184       114             2.0   91       0  24.0   \n",
              "389          165       94        69             2.4   92       0  39.7   \n",
              "\n",
              "     Systolic BP  Diastolic BP  Waist/hip ratio  Diabetes  \n",
              "0            118            70             0.84         0  \n",
              "1            108            58             0.83         0  \n",
              "2            110            72             0.89         0  \n",
              "3            122            64             0.79         0  \n",
              "4            122            86             0.82         0  \n",
              "..           ...           ...              ...       ...  \n",
              "385          150            90             0.88         0  \n",
              "386          144            88             0.85         1  \n",
              "387          218            90             0.76         0  \n",
              "388          170            82             0.92         1  \n",
              "389          160            82             1.00         0  \n",
              "\n",
              "[390 rows x 11 columns]"
            ],
            "text/html": [
              "\n",
              "  <div id=\"df-c30951f6-dcf3-47b3-bc90-813924d8cb1d\">\n",
              "    <div class=\"colab-df-container\">\n",
              "      <div>\n",
              "<style scoped>\n",
              "    .dataframe tbody tr th:only-of-type {\n",
              "        vertical-align: middle;\n",
              "    }\n",
              "\n",
              "    .dataframe tbody tr th {\n",
              "        vertical-align: top;\n",
              "    }\n",
              "\n",
              "    .dataframe thead th {\n",
              "        text-align: right;\n",
              "    }\n",
              "</style>\n",
              "<table border=\"1\" class=\"dataframe\">\n",
              "  <thead>\n",
              "    <tr style=\"text-align: right;\">\n",
              "      <th></th>\n",
              "      <th>Cholesterol</th>\n",
              "      <th>Glucose</th>\n",
              "      <th>HDL Chol</th>\n",
              "      <th>Chol/HDL ratio</th>\n",
              "      <th>Age</th>\n",
              "      <th>Gender</th>\n",
              "      <th>BMI</th>\n",
              "      <th>Systolic BP</th>\n",
              "      <th>Diastolic BP</th>\n",
              "      <th>Waist/hip ratio</th>\n",
              "      <th>Diabetes</th>\n",
              "    </tr>\n",
              "  </thead>\n",
              "  <tbody>\n",
              "    <tr>\n",
              "      <th>0</th>\n",
              "      <td>193</td>\n",
              "      <td>77</td>\n",
              "      <td>49</td>\n",
              "      <td>3.9</td>\n",
              "      <td>19</td>\n",
              "      <td>0</td>\n",
              "      <td>22.5</td>\n",
              "      <td>118</td>\n",
              "      <td>70</td>\n",
              "      <td>0.84</td>\n",
              "      <td>0</td>\n",
              "    </tr>\n",
              "    <tr>\n",
              "      <th>1</th>\n",
              "      <td>146</td>\n",
              "      <td>79</td>\n",
              "      <td>41</td>\n",
              "      <td>3.6</td>\n",
              "      <td>19</td>\n",
              "      <td>0</td>\n",
              "      <td>26.4</td>\n",
              "      <td>108</td>\n",
              "      <td>58</td>\n",
              "      <td>0.83</td>\n",
              "      <td>0</td>\n",
              "    </tr>\n",
              "    <tr>\n",
              "      <th>2</th>\n",
              "      <td>217</td>\n",
              "      <td>75</td>\n",
              "      <td>54</td>\n",
              "      <td>4.0</td>\n",
              "      <td>20</td>\n",
              "      <td>0</td>\n",
              "      <td>29.3</td>\n",
              "      <td>110</td>\n",
              "      <td>72</td>\n",
              "      <td>0.89</td>\n",
              "      <td>0</td>\n",
              "    </tr>\n",
              "    <tr>\n",
              "      <th>3</th>\n",
              "      <td>226</td>\n",
              "      <td>97</td>\n",
              "      <td>70</td>\n",
              "      <td>3.2</td>\n",
              "      <td>20</td>\n",
              "      <td>0</td>\n",
              "      <td>19.6</td>\n",
              "      <td>122</td>\n",
              "      <td>64</td>\n",
              "      <td>0.79</td>\n",
              "      <td>0</td>\n",
              "    </tr>\n",
              "    <tr>\n",
              "      <th>4</th>\n",
              "      <td>164</td>\n",
              "      <td>91</td>\n",
              "      <td>67</td>\n",
              "      <td>2.4</td>\n",
              "      <td>20</td>\n",
              "      <td>0</td>\n",
              "      <td>20.2</td>\n",
              "      <td>122</td>\n",
              "      <td>86</td>\n",
              "      <td>0.82</td>\n",
              "      <td>0</td>\n",
              "    </tr>\n",
              "    <tr>\n",
              "      <th>...</th>\n",
              "      <td>...</td>\n",
              "      <td>...</td>\n",
              "      <td>...</td>\n",
              "      <td>...</td>\n",
              "      <td>...</td>\n",
              "      <td>...</td>\n",
              "      <td>...</td>\n",
              "      <td>...</td>\n",
              "      <td>...</td>\n",
              "      <td>...</td>\n",
              "      <td>...</td>\n",
              "    </tr>\n",
              "    <tr>\n",
              "      <th>385</th>\n",
              "      <td>227</td>\n",
              "      <td>105</td>\n",
              "      <td>44</td>\n",
              "      <td>5.2</td>\n",
              "      <td>83</td>\n",
              "      <td>0</td>\n",
              "      <td>25.2</td>\n",
              "      <td>150</td>\n",
              "      <td>90</td>\n",
              "      <td>0.88</td>\n",
              "      <td>0</td>\n",
              "    </tr>\n",
              "    <tr>\n",
              "      <th>386</th>\n",
              "      <td>226</td>\n",
              "      <td>279</td>\n",
              "      <td>52</td>\n",
              "      <td>4.3</td>\n",
              "      <td>84</td>\n",
              "      <td>0</td>\n",
              "      <td>37.5</td>\n",
              "      <td>144</td>\n",
              "      <td>88</td>\n",
              "      <td>0.85</td>\n",
              "      <td>1</td>\n",
              "    </tr>\n",
              "    <tr>\n",
              "      <th>387</th>\n",
              "      <td>301</td>\n",
              "      <td>90</td>\n",
              "      <td>118</td>\n",
              "      <td>2.6</td>\n",
              "      <td>89</td>\n",
              "      <td>0</td>\n",
              "      <td>21.7</td>\n",
              "      <td>218</td>\n",
              "      <td>90</td>\n",
              "      <td>0.76</td>\n",
              "      <td>0</td>\n",
              "    </tr>\n",
              "    <tr>\n",
              "      <th>388</th>\n",
              "      <td>232</td>\n",
              "      <td>184</td>\n",
              "      <td>114</td>\n",
              "      <td>2.0</td>\n",
              "      <td>91</td>\n",
              "      <td>0</td>\n",
              "      <td>24.0</td>\n",
              "      <td>170</td>\n",
              "      <td>82</td>\n",
              "      <td>0.92</td>\n",
              "      <td>1</td>\n",
              "    </tr>\n",
              "    <tr>\n",
              "      <th>389</th>\n",
              "      <td>165</td>\n",
              "      <td>94</td>\n",
              "      <td>69</td>\n",
              "      <td>2.4</td>\n",
              "      <td>92</td>\n",
              "      <td>0</td>\n",
              "      <td>39.7</td>\n",
              "      <td>160</td>\n",
              "      <td>82</td>\n",
              "      <td>1.00</td>\n",
              "      <td>0</td>\n",
              "    </tr>\n",
              "  </tbody>\n",
              "</table>\n",
              "<p>390 rows × 11 columns</p>\n",
              "</div>\n",
              "      <button class=\"colab-df-convert\" onclick=\"convertToInteractive('df-c30951f6-dcf3-47b3-bc90-813924d8cb1d')\"\n",
              "              title=\"Convert this dataframe to an interactive table.\"\n",
              "              style=\"display:none;\">\n",
              "        \n",
              "  <svg xmlns=\"http://www.w3.org/2000/svg\" height=\"24px\"viewBox=\"0 0 24 24\"\n",
              "       width=\"24px\">\n",
              "    <path d=\"M0 0h24v24H0V0z\" fill=\"none\"/>\n",
              "    <path d=\"M18.56 5.44l.94 2.06.94-2.06 2.06-.94-2.06-.94-.94-2.06-.94 2.06-2.06.94zm-11 1L8.5 8.5l.94-2.06 2.06-.94-2.06-.94L8.5 2.5l-.94 2.06-2.06.94zm10 10l.94 2.06.94-2.06 2.06-.94-2.06-.94-.94-2.06-.94 2.06-2.06.94z\"/><path d=\"M17.41 7.96l-1.37-1.37c-.4-.4-.92-.59-1.43-.59-.52 0-1.04.2-1.43.59L10.3 9.45l-7.72 7.72c-.78.78-.78 2.05 0 2.83L4 21.41c.39.39.9.59 1.41.59.51 0 1.02-.2 1.41-.59l7.78-7.78 2.81-2.81c.8-.78.8-2.07 0-2.86zM5.41 20L4 18.59l7.72-7.72 1.47 1.35L5.41 20z\"/>\n",
              "  </svg>\n",
              "      </button>\n",
              "      \n",
              "  <style>\n",
              "    .colab-df-container {\n",
              "      display:flex;\n",
              "      flex-wrap:wrap;\n",
              "      gap: 12px;\n",
              "    }\n",
              "\n",
              "    .colab-df-convert {\n",
              "      background-color: #E8F0FE;\n",
              "      border: none;\n",
              "      border-radius: 50%;\n",
              "      cursor: pointer;\n",
              "      display: none;\n",
              "      fill: #1967D2;\n",
              "      height: 32px;\n",
              "      padding: 0 0 0 0;\n",
              "      width: 32px;\n",
              "    }\n",
              "\n",
              "    .colab-df-convert:hover {\n",
              "      background-color: #E2EBFA;\n",
              "      box-shadow: 0px 1px 2px rgba(60, 64, 67, 0.3), 0px 1px 3px 1px rgba(60, 64, 67, 0.15);\n",
              "      fill: #174EA6;\n",
              "    }\n",
              "\n",
              "    [theme=dark] .colab-df-convert {\n",
              "      background-color: #3B4455;\n",
              "      fill: #D2E3FC;\n",
              "    }\n",
              "\n",
              "    [theme=dark] .colab-df-convert:hover {\n",
              "      background-color: #434B5C;\n",
              "      box-shadow: 0px 1px 3px 1px rgba(0, 0, 0, 0.15);\n",
              "      filter: drop-shadow(0px 1px 2px rgba(0, 0, 0, 0.3));\n",
              "      fill: #FFFFFF;\n",
              "    }\n",
              "  </style>\n",
              "\n",
              "      <script>\n",
              "        const buttonEl =\n",
              "          document.querySelector('#df-c30951f6-dcf3-47b3-bc90-813924d8cb1d button.colab-df-convert');\n",
              "        buttonEl.style.display =\n",
              "          google.colab.kernel.accessAllowed ? 'block' : 'none';\n",
              "\n",
              "        async function convertToInteractive(key) {\n",
              "          const element = document.querySelector('#df-c30951f6-dcf3-47b3-bc90-813924d8cb1d');\n",
              "          const dataTable =\n",
              "            await google.colab.kernel.invokeFunction('convertToInteractive',\n",
              "                                                     [key], {});\n",
              "          if (!dataTable) return;\n",
              "\n",
              "          const docLinkHtml = 'Like what you see? Visit the ' +\n",
              "            '<a target=\"_blank\" href=https://colab.research.google.com/notebooks/data_table.ipynb>data table notebook</a>'\n",
              "            + ' to learn more about interactive tables.';\n",
              "          element.innerHTML = '';\n",
              "          dataTable['output_type'] = 'display_data';\n",
              "          await google.colab.output.renderOutput(dataTable, element);\n",
              "          const docLink = document.createElement('div');\n",
              "          docLink.innerHTML = docLinkHtml;\n",
              "          element.appendChild(docLink);\n",
              "        }\n",
              "      </script>\n",
              "    </div>\n",
              "  </div>\n",
              "  "
            ]
          },
          "metadata": {},
          "execution_count": 2
        }
      ]
    },
    {
      "cell_type": "code",
      "source": [
        "df.isnull().sum()"
      ],
      "metadata": {
        "id": "aeJmpaZBD_lt",
        "outputId": "00ab8c78-2de9-461f-e021-c669516a0bcd",
        "colab": {
          "base_uri": "https://localhost:8080/"
        }
      },
      "execution_count": null,
      "outputs": [
        {
          "output_type": "execute_result",
          "data": {
            "text/plain": [
              "Cholesterol        0\n",
              "Glucose            0\n",
              "HDL Chol           0\n",
              "Chol/HDL ratio     0\n",
              "Age                0\n",
              "Gender             0\n",
              "BMI                0\n",
              "Systolic BP        0\n",
              "Diastolic BP       0\n",
              "Waist/hip ratio    0\n",
              "Diabetes           0\n",
              "dtype: int64"
            ]
          },
          "metadata": {},
          "execution_count": 3
        }
      ]
    },
    {
      "cell_type": "code",
      "source": [
        "X = df.drop(\"Diabetes\",axis=1)\n",
        "Y = pd.DataFrame(df[\"Diabetes\"],columns = ['Diabetes'])\n"
      ],
      "metadata": {
        "id": "f_Pu6iRFEsJu"
      },
      "execution_count": null,
      "outputs": []
    },
    {
      "cell_type": "code",
      "source": [
        "#scaling the data between 0 to 1\n",
        "scaler = MinMaxScaler(feature_range = (0,1))\n",
        "scaled_training_data = scaler.fit_transform(X)\n",
        "scaled_testing_data = scaler.fit_transform(Y)\n",
        "X_train,X_test,Y_train,Y_test = train_test_split(scaled_training_data,scaled_testing_data,random_state=42,test_size =0.30)"
      ],
      "metadata": {
        "id": "KqO9r3BqIr5H"
      },
      "execution_count": null,
      "outputs": []
    },
    {
      "cell_type": "code",
      "source": [
        "model = keras.models.Sequential()\n",
        "model.add(keras.layers.Dense(50,input_dim=10,activation = \"relu\"))\n",
        "model.add(keras.layers.Dense(100, activation='relu'))\n",
        "model.add(keras.layers.Dense(50, activation='relu'))\n",
        "model.add(keras.layers.Dense(1, activation='linear'))\n",
        "model.compile(loss='mean_squared_error', optimizer='adam')\n",
        "model.fit(X_train,Y_train)"
      ],
      "metadata": {
        "id": "PIA6Tma7TE8f",
        "colab": {
          "base_uri": "https://localhost:8080/"
        },
        "outputId": "99951cf4-7655-4598-cb3f-8e3e9d1f66e0"
      },
      "execution_count": null,
      "outputs": [
        {
          "output_type": "stream",
          "name": "stdout",
          "text": [
            "9/9 [==============================] - 1s 4ms/step - loss: 0.1205\n"
          ]
        },
        {
          "output_type": "execute_result",
          "data": {
            "text/plain": [
              "<keras.callbacks.History at 0x7f717ff4baf0>"
            ]
          },
          "metadata": {},
          "execution_count": 6
        }
      ]
    },
    {
      "cell_type": "code",
      "source": [
        "error_rate = model.evaluate(X_test,Y_test)\n"
      ],
      "metadata": {
        "id": "QVJbyw7NW48V",
        "colab": {
          "base_uri": "https://localhost:8080/"
        },
        "outputId": "5f2fe8d9-36da-4fc8-8856-35149f444513"
      },
      "execution_count": null,
      "outputs": [
        {
          "output_type": "stream",
          "name": "stdout",
          "text": [
            "4/4 [==============================] - 0s 3ms/step - loss: 0.1524\n"
          ]
        }
      ]
    },
    {
      "cell_type": "code",
      "source": [
        "print((1-error_rate)*100)"
      ],
      "metadata": {
        "id": "WaQadiuHW9k5",
        "colab": {
          "base_uri": "https://localhost:8080/"
        },
        "outputId": "70c3caff-6b86-46a1-d524-e8ce2b306170"
      },
      "execution_count": null,
      "outputs": [
        {
          "output_type": "stream",
          "name": "stdout",
          "text": [
            "84.75847095251083\n"
          ]
        }
      ]
    },
    {
      "cell_type": "code",
      "source": [
        "predictions = model.predict(X_test)"
      ],
      "metadata": {
        "id": "64goQTsLW_WU",
        "colab": {
          "base_uri": "https://localhost:8080/"
        },
        "outputId": "e19318ba-95b1-42be-ee00-132dbefe0751"
      },
      "execution_count": null,
      "outputs": [
        {
          "output_type": "stream",
          "name": "stdout",
          "text": [
            "4/4 [==============================] - 0s 3ms/step\n"
          ]
        }
      ]
    },
    {
      "cell_type": "code",
      "source": [
        "#predictions vs actual values\n",
        "plt.scatter(Y_test,predictions)"
      ],
      "metadata": {
        "id": "yL1jtZMiXdBF",
        "colab": {
          "base_uri": "https://localhost:8080/",
          "height": 284
        },
        "outputId": "89429947-aad3-425d-be1d-0d708fc4ae46"
      },
      "execution_count": null,
      "outputs": [
        {
          "output_type": "execute_result",
          "data": {
            "text/plain": [
              "<matplotlib.collections.PathCollection at 0x7f717fe59610>"
            ]
          },
          "metadata": {},
          "execution_count": 10
        },
        {
          "output_type": "display_data",
          "data": {
            "text/plain": [
              "<Figure size 432x288 with 1 Axes>"
            ],
            "image/png": "[encoded data removed]"
          },
          "metadata": {
            "needs_background": "light"
          }
        }
      ]
    },
    {
      "cell_type": "code",
      "source": [],
      "metadata": {
        "id": "pJ-DA2gZQLr4"
      },
      "execution_count": null,
      "outputs": []
    }
  ]
}